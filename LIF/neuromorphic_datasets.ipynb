{
  "cells": [
    {
      "cell_type": "markdown",
      "id": "ClgsZMOfBVby",
      "metadata": {
        "id": "ClgsZMOfBVby"
      },
      "source": [
        "# Introduction\n",
        "In this tutorial, you will:\n",
        "* Learn how to load neuromorphic datasets using [Tonic](https://github.com/neuromorphs/tonic)\n",
        "* Make use of caching to speed up dataloading\n",
        "* Train a CSNN with the [Neuromorphic-MNIST](https://tonic.readthedocs.io/en/latest/datasets.html#n-mnist) Dataset\n",
        "\n",
        "If running in Google Colab:\n",
        "* You may connect to GPU by checking `Runtime` > `Change runtime type` > `Hardware accelerator: GPU`\n",
        "* Next, install the latest PyPi distribution of snnTorch and Tonic by clicking into the following cell and pressing `Shift+Enter`."
      ]
    },
    {
      "cell_type": "code",
      "execution_count": 1,
      "id": "hDnIEHOKB8LD",
      "metadata": {
        "id": "hDnIEHOKB8LD"
      },
      "outputs": [
        {
          "name": "stdout",
          "output_type": "stream",
          "text": [
            "Looking in indexes: https://pypi.douban.com/simple\n",
            "Requirement already satisfied: tonic in /slurm_data/youcheng.li/anaconda3/envs/d/lib/python3.7/site-packages (1.2.6)\n",
            "Requirement already satisfied: h5py in /slurm_data/youcheng.li/anaconda3/envs/d/lib/python3.7/site-packages (from tonic) (3.8.0)\n",
            "Requirement already satisfied: pbr in /slurm_data/youcheng.li/anaconda3/envs/d/lib/python3.7/site-packages (from tonic) (5.11.1)\n",
            "Requirement already satisfied: expelliarmus in /slurm_data/youcheng.li/anaconda3/envs/d/lib/python3.7/site-packages (from tonic) (1.1.12)\n",
            "Requirement already satisfied: typing-extensions in /slurm_data/youcheng.li/anaconda3/envs/d/lib/python3.7/site-packages (from tonic) (4.4.0)\n",
            "Requirement already satisfied: tqdm in /slurm_data/youcheng.li/anaconda3/envs/d/lib/python3.7/site-packages (from tonic) (4.64.1)\n",
            "Requirement already satisfied: librosa in /slurm_data/youcheng.li/anaconda3/envs/d/lib/python3.7/site-packages (from tonic) (0.10.0.post2)\n",
            "Requirement already satisfied: numpy in /slurm_data/youcheng.li/anaconda3/envs/d/lib/python3.7/site-packages (from tonic) (1.21.6)\n",
            "Requirement already satisfied: importRosbag>=1.0.3 in /slurm_data/youcheng.li/anaconda3/envs/d/lib/python3.7/site-packages (from tonic) (1.0.3)\n",
            "Requirement already satisfied: scipy in /slurm_data/youcheng.li/anaconda3/envs/d/lib/python3.7/site-packages (from tonic) (1.7.3)\n",
            "Requirement already satisfied: setuptools in /slurm_data/youcheng.li/anaconda3/envs/d/lib/python3.7/site-packages (from importRosbag>=1.0.3->tonic) (59.5.0)\n",
            "Requirement already satisfied: decorator>=4.3.0 in /slurm_data/youcheng.li/anaconda3/envs/d/lib/python3.7/site-packages (from librosa->tonic) (5.1.1)\n",
            "Requirement already satisfied: numba>=0.51.0 in /slurm_data/youcheng.li/anaconda3/envs/d/lib/python3.7/site-packages (from librosa->tonic) (0.56.4)\n",
            "Requirement already satisfied: msgpack>=1.0 in /slurm_data/youcheng.li/anaconda3/envs/d/lib/python3.7/site-packages (from librosa->tonic) (1.0.5)\n",
            "Requirement already satisfied: soxr>=0.3.2 in /slurm_data/youcheng.li/anaconda3/envs/d/lib/python3.7/site-packages (from librosa->tonic) (0.3.4)\n",
            "Requirement already satisfied: lazy-loader>=0.1 in /slurm_data/youcheng.li/anaconda3/envs/d/lib/python3.7/site-packages (from librosa->tonic) (0.1)\n",
            "Requirement already satisfied: audioread>=2.1.9 in /slurm_data/youcheng.li/anaconda3/envs/d/lib/python3.7/site-packages (from librosa->tonic) (3.0.0)\n",
            "Requirement already satisfied: pooch<1.7,>=1.0 in /slurm_data/youcheng.li/anaconda3/envs/d/lib/python3.7/site-packages (from librosa->tonic) (1.6.0)\n",
            "Requirement already satisfied: soundfile>=0.12.1 in /slurm_data/youcheng.li/anaconda3/envs/d/lib/python3.7/site-packages (from librosa->tonic) (0.12.1)\n",
            "Requirement already satisfied: joblib>=0.14 in /slurm_data/youcheng.li/anaconda3/envs/d/lib/python3.7/site-packages (from librosa->tonic) (1.2.0)\n",
            "Requirement already satisfied: scikit-learn>=0.20.0 in /slurm_data/youcheng.li/anaconda3/envs/d/lib/python3.7/site-packages (from librosa->tonic) (1.0.2)\n",
            "Requirement already satisfied: llvmlite<0.40,>=0.39.0dev0 in /slurm_data/youcheng.li/anaconda3/envs/d/lib/python3.7/site-packages (from numba>=0.51.0->librosa->tonic) (0.39.1)\n",
            "Requirement already satisfied: importlib-metadata in /slurm_data/youcheng.li/anaconda3/envs/d/lib/python3.7/site-packages (from numba>=0.51.0->librosa->tonic) (5.1.0)\n",
            "Requirement already satisfied: appdirs>=1.3.0 in /slurm_data/youcheng.li/anaconda3/envs/d/lib/python3.7/site-packages (from pooch<1.7,>=1.0->librosa->tonic) (1.4.4)\n",
            "Requirement already satisfied: packaging>=20.0 in /slurm_data/youcheng.li/anaconda3/envs/d/lib/python3.7/site-packages (from pooch<1.7,>=1.0->librosa->tonic) (23.0)\n",
            "Requirement already satisfied: requests>=2.19.0 in /slurm_data/youcheng.li/anaconda3/envs/d/lib/python3.7/site-packages (from pooch<1.7,>=1.0->librosa->tonic) (2.28.1)\n",
            "Requirement already satisfied: threadpoolctl>=2.0.0 in /slurm_data/youcheng.li/anaconda3/envs/d/lib/python3.7/site-packages (from scikit-learn>=0.20.0->librosa->tonic) (3.1.0)\n",
            "Requirement already satisfied: cffi>=1.0 in /slurm_data/youcheng.li/anaconda3/envs/d/lib/python3.7/site-packages (from soundfile>=0.12.1->librosa->tonic) (1.15.1)\n",
            "Requirement already satisfied: pycparser in /slurm_data/youcheng.li/anaconda3/envs/d/lib/python3.7/site-packages (from cffi>=1.0->soundfile>=0.12.1->librosa->tonic) (2.21)\n",
            "Requirement already satisfied: certifi>=2017.4.17 in /slurm_data/youcheng.li/anaconda3/envs/d/lib/python3.7/site-packages (from requests>=2.19.0->pooch<1.7,>=1.0->librosa->tonic) (2022.12.7)\n",
            "Requirement already satisfied: urllib3<1.27,>=1.21.1 in /slurm_data/youcheng.li/anaconda3/envs/d/lib/python3.7/site-packages (from requests>=2.19.0->pooch<1.7,>=1.0->librosa->tonic) (1.26.13)\n",
            "Requirement already satisfied: idna<4,>=2.5 in /slurm_data/youcheng.li/anaconda3/envs/d/lib/python3.7/site-packages (from requests>=2.19.0->pooch<1.7,>=1.0->librosa->tonic) (3.4)\n",
            "Requirement already satisfied: charset-normalizer<3,>=2 in /slurm_data/youcheng.li/anaconda3/envs/d/lib/python3.7/site-packages (from requests>=2.19.0->pooch<1.7,>=1.0->librosa->tonic) (2.1.1)\n",
            "Requirement already satisfied: zipp>=0.5 in /slurm_data/youcheng.li/anaconda3/envs/d/lib/python3.7/site-packages (from importlib-metadata->numba>=0.51.0->librosa->tonic) (3.11.0)\n",
            "Looking in indexes: https://pypi.douban.com/simple\n",
            "Requirement already satisfied: snntorch in /slurm_data/youcheng.li/anaconda3/envs/d/lib/python3.7/site-packages (0.6.2)\n",
            "Requirement already satisfied: pandas in /slurm_data/youcheng.li/anaconda3/envs/d/lib/python3.7/site-packages (from snntorch) (1.3.5)\n",
            "Requirement already satisfied: torch>=1.1.0 in /slurm_data/youcheng.li/anaconda3/envs/d/lib/python3.7/site-packages (from snntorch) (1.10.0+cu111)\n",
            "Requirement already satisfied: numpy>=1.17 in /slurm_data/youcheng.li/anaconda3/envs/d/lib/python3.7/site-packages (from snntorch) (1.21.6)\n",
            "Requirement already satisfied: matplotlib in /slurm_data/youcheng.li/anaconda3/envs/d/lib/python3.7/site-packages (from snntorch) (3.5.3)\n",
            "Requirement already satisfied: typing-extensions in /slurm_data/youcheng.li/anaconda3/envs/d/lib/python3.7/site-packages (from torch>=1.1.0->snntorch) (4.4.0)\n",
            "Requirement already satisfied: kiwisolver>=1.0.1 in /slurm_data/youcheng.li/anaconda3/envs/d/lib/python3.7/site-packages (from matplotlib->snntorch) (1.4.4)\n",
            "Requirement already satisfied: packaging>=20.0 in /slurm_data/youcheng.li/anaconda3/envs/d/lib/python3.7/site-packages (from matplotlib->snntorch) (23.0)\n",
            "Requirement already satisfied: pyparsing>=2.2.1 in /slurm_data/youcheng.li/anaconda3/envs/d/lib/python3.7/site-packages (from matplotlib->snntorch) (3.0.9)\n",
            "Requirement already satisfied: python-dateutil>=2.7 in /slurm_data/youcheng.li/anaconda3/envs/d/lib/python3.7/site-packages (from matplotlib->snntorch) (2.8.2)\n",
            "Requirement already satisfied: pillow>=6.2.0 in /slurm_data/youcheng.li/anaconda3/envs/d/lib/python3.7/site-packages (from matplotlib->snntorch) (9.3.0)\n",
            "Requirement already satisfied: cycler>=0.10 in /slurm_data/youcheng.li/anaconda3/envs/d/lib/python3.7/site-packages (from matplotlib->snntorch) (0.11.0)\n",
            "Requirement already satisfied: fonttools>=4.22.0 in /slurm_data/youcheng.li/anaconda3/envs/d/lib/python3.7/site-packages (from matplotlib->snntorch) (4.38.0)\n",
            "Requirement already satisfied: pytz>=2017.3 in /slurm_data/youcheng.li/anaconda3/envs/d/lib/python3.7/site-packages (from pandas->snntorch) (2022.6)\n",
            "Requirement already satisfied: six>=1.5 in /slurm_data/youcheng.li/anaconda3/envs/d/lib/python3.7/site-packages (from python-dateutil>=2.7->matplotlib->snntorch) (1.16.0)\n"
          ]
        }
      ],
      "source": [
        "!pip install tonic\n",
        "!pip install snntorch"
      ]
    },
    {
      "cell_type": "markdown",
      "id": "e93694d9-0f0a-46a0-b17f-c04ac9b73a63",
      "metadata": {
        "id": "e93694d9-0f0a-46a0-b17f-c04ac9b73a63"
      },
      "source": [
        "# 1. Using Tonic to Load Neuromorphic Datasets\n",
        "Loading datasets from neuromorphic sensors is made super simple thanks to [Tonic](https://github.com/neuromorphs/tonic), which works much like PyTorch vision.\n",
        "\n",
        "Let's start by loading the neuromorphic version of the MNIST dataset, called [N-MNIST](https://tonic.readthedocs.io/en/latest/reference/datasets.html#n-mnist). We can have a look at some raw events to get a feel for what we're working with."
      ]
    },
    {
      "cell_type": "code",
      "execution_count": 2,
      "id": "7d286ef9-5fe6-4578-a686-91559a1f81d2",
      "metadata": {
        "id": "7d286ef9-5fe6-4578-a686-91559a1f81d2"
      },
      "outputs": [
        {
          "name": "stderr",
          "output_type": "stream",
          "text": [
            "/slurm_data/youcheng.li/anaconda3/envs/d/lib/python3.7/site-packages/tqdm/auto.py:22: TqdmWarning: IProgress not found. Please update jupyter and ipywidgets. See https://ipywidgets.readthedocs.io/en/stable/user_install.html\n",
            "  from .autonotebook import tqdm as notebook_tqdm\n"
          ]
        },
        {
          "name": "stdout",
          "output_type": "stream",
          "text": [
            "[(10, 30,    937, 1) (33, 20,   1030, 1) (12, 27,   1052, 1) ...\n",
            " ( 7, 15, 302706, 1) (26, 11, 303852, 1) (11, 17, 305341, 1)]\n"
          ]
        }
      ],
      "source": [
        "import tonic\n",
        "\n",
        "dataset = tonic.datasets.NMNIST(save_to='./data', train=True)\n",
        "events, target = dataset[0]\n",
        "print(events)"
      ]
    },
    {
      "cell_type": "markdown",
      "id": "IbnLy107Oo3a",
      "metadata": {
        "id": "IbnLy107Oo3a"
      },
      "source": [
        "Each row corresponds to a single event, which consists of four parameters: (*x-coordinate, y-coordinate, timestamp, polarity*).\n",
        "\n",
        "* x & y co-ordinates correspond to an address in a $34 \\times 34$ grid.\n",
        "\n",
        "* The timestamp of the event is recorded in microseconds.\n",
        "\n",
        "* The polarity refers to whether an on-spike (+1) or an off-spike (-1) occured; i.e., an increase in brightness or a decrease in brightness.\n",
        "\n",
        "If we were to accumulate those events over time and plot the bins as images, it looks like this:"
      ]
    },
    {
      "cell_type": "code",
      "execution_count": 3,
      "id": "e6d6a0b0-2a73-4dbe-9576-d06c251f0fa4",
      "metadata": {
        "id": "e6d6a0b0-2a73-4dbe-9576-d06c251f0fa4"
      },
      "outputs": [
        {
          "data": {
            "image/png": "[encoded data removed]",
            "text/plain": [
              "<Figure size 640x480 with 3 Axes>"
            ]
          },
          "metadata": {},
          "output_type": "display_data"
        }
      ],
      "source": [
        "tonic.utils.plot_event_grid(events)"
      ]
    },
    {
      "cell_type": "markdown",
      "id": "f6bcc031-d11a-4471-b3aa-335eec76d7ad",
      "metadata": {
        "id": "f6bcc031-d11a-4471-b3aa-335eec76d7ad"
      },
      "source": [
        "## 1.1 Transformations\n",
        "\n",
        "However, neural nets don't take lists of events as input. The raw data must be converted into a suitable representation, such as a tensor. We can choose a set of transforms to apply to our data before feeding it to our network. The neuromorphic camera sensor has a temporal resolution of microseconds, which when converted into a dense representation, ends up as a very large tensor. That is why we bin events into a smaller number of frames using the [ToFrame transformation](https://tonic.readthedocs.io/en/latest/reference/transformations.html#frames), which reduces temporal precision but also allows us to work with it in a dense format.\n",
        "\n",
        "* `time_window=1000` integrates events into 1000$~\\mu$s bins\n",
        "\n",
        "* Denoise removes isolated, one-off events. If no event occurs within a neighbourhood of 1 pixel across `filter_time` microseconds, the event is filtered. Smaller `filter_time` will filter more events."
      ]
    },
    {
      "cell_type": "code",
      "execution_count": 4,
      "id": "30f249be-8a65-4c1c-a21c-d561e904b4bf",
      "metadata": {
        "id": "30f249be-8a65-4c1c-a21c-d561e904b4bf"
      },
      "outputs": [],
      "source": [
        "import tonic.transforms as transforms\n",
        "\n",
        "sensor_size = tonic.datasets.NMNIST.sensor_size\n",
        "\n",
        "# Denoise removes isolated, one-off events\n",
        "# time_window\n",
        "frame_transform = transforms.Compose([transforms.Denoise(filter_time=10000), \n",
        "                                      transforms.ToFrame(sensor_size=sensor_size, \n",
        "                                                         time_window=1000)\n",
        "                                     ])\n",
        "\n",
        "trainset = tonic.datasets.NMNIST(save_to='./data', transform=frame_transform, train=True)\n",
        "testset = tonic.datasets.NMNIST(save_to='./data', transform=frame_transform, train=False)"
      ]
    },
    {
      "cell_type": "code",
      "execution_count": 5,
      "id": "3a6bf2a2-ff9f-4cdc-8cb3-02a1a9d71a11",
      "metadata": {
        "id": "3a6bf2a2-ff9f-4cdc-8cb3-02a1a9d71a11"
      },
      "outputs": [],
      "source": [
        "def load_sample_simple():\n",
        "    for i in range(100):\n",
        "        events, target = trainset[i]"
      ]
    },
    {
      "cell_type": "code",
      "execution_count": 6,
      "id": "1a9d3b28-b303-4a17-be78-b9918911a7cd",
      "metadata": {
        "id": "1a9d3b28-b303-4a17-be78-b9918911a7cd"
      },
      "outputs": [
        {
          "name": "stdout",
          "output_type": "stream",
          "text": [
            "1.81 s ± 99.9 ms per loop (mean ± std. dev. of 7 runs, 1 loop each)\n"
          ]
        },
        {
          "data": {
            "text/plain": [
              "<TimeitResult : 1.81 s ± 99.9 ms per loop (mean ± std. dev. of 7 runs, 1 loop each)>"
            ]
          },
          "execution_count": 6,
          "metadata": {},
          "output_type": "execute_result"
        }
      ],
      "source": [
        "%timeit -o load_sample_simple()"
      ]
    },
    {
      "cell_type": "markdown",
      "id": "3831428d-0511-4fde-84d9-11d08fa45df7",
      "metadata": {
        "id": "3831428d-0511-4fde-84d9-11d08fa45df7"
      },
      "source": [
        "## 1.2 Fast DataLoading\n",
        "\n",
        "\n",
        "The original data is stored in a format that is slow to read. To speed up dataloading, we can make use of disk caching and batching. That means that once files are loaded from the original dataset, they are written to the disk. \n",
        "\n",
        "Because event recordings have different lengths, we are going to provide a  collation function `tonic.collation.PadTensors()` that will pad out shorter recordings to ensure all samples in a batch have the same dimensions. "
      ]
    },
    {
      "cell_type": "code",
      "execution_count": 7,
      "id": "5b35c7cd-d292-47cd-9203-7f31aa7f7207",
      "metadata": {
        "id": "5b35c7cd-d292-47cd-9203-7f31aa7f7207"
      },
      "outputs": [],
      "source": [
        "from torch.utils.data import DataLoader\n",
        "from tonic import DiskCachedDataset\n",
        "\n",
        "cached_trainset = DiskCachedDataset(trainset, cache_path='./cache/nmnist/train')\n",
        "cached_dataloader = DataLoader(cached_trainset)\n",
        "\n",
        "batch_size = 128\n",
        "trainloader = DataLoader(cached_trainset, batch_size=batch_size, collate_fn=tonic.collation.PadTensors())"
      ]
    },
    {
      "cell_type": "code",
      "execution_count": 8,
      "id": "14b9af4f-141e-4301-8451-445957ec8707",
      "metadata": {
        "id": "14b9af4f-141e-4301-8451-445957ec8707"
      },
      "outputs": [],
      "source": [
        "def load_sample_batched():\n",
        "    events, target = next(iter(cached_dataloader))"
      ]
    },
    {
      "cell_type": "code",
      "execution_count": 9,
      "id": "3dc4b27a-63ac-4edc-94e9-589d548c4769",
      "metadata": {
        "id": "3dc4b27a-63ac-4edc-94e9-589d548c4769"
      },
      "outputs": [
        {
          "name": "stdout",
          "output_type": "stream",
          "text": [
            "8.05 ms ± 564 µs per loop (mean ± std. dev. of 10 runs, 100 loops each)\n"
          ]
        },
        {
          "data": {
            "text/plain": [
              "<TimeitResult : 8.05 ms ± 564 µs per loop (mean ± std. dev. of 10 runs, 100 loops each)>"
            ]
          },
          "execution_count": 9,
          "metadata": {},
          "output_type": "execute_result"
        }
      ],
      "source": [
        "%timeit -o -r 10 load_sample_batched()"
      ]
    },
    {
      "cell_type": "markdown",
      "id": "a82a7afd-c011-4cd6-ba04-1e7cd438bc1f",
      "metadata": {
        "id": "a82a7afd-c011-4cd6-ba04-1e7cd438bc1f"
      },
      "source": [
        "By using disk caching and a PyTorch dataloader with multithreading and batching support, we have signifantly reduced loading times.\n",
        "\n",
        "If you have a large amount of RAM available, you can speed up dataloading further by caching to main memory instead of to disk:\n",
        "\n",
        "```\n",
        "from tonic import MemoryCachedDataset\n",
        "\n",
        "cached_trainset = MemoryCachedDataset(trainset)\n",
        "```"
      ]
    },
    {
      "cell_type": "markdown",
      "id": "2ded1bd9-e2f1-479e-899c-c6c2652e6fc9",
      "metadata": {
        "id": "2ded1bd9-e2f1-479e-899c-c6c2652e6fc9"
      },
      "source": [
        "# 2. Training our network using frames created from events"
      ]
    },
    {
      "cell_type": "markdown",
      "id": "9be82d75-69ef-4c1b-ad85-4eca84c73ccf",
      "metadata": {
        "id": "9be82d75-69ef-4c1b-ad85-4eca84c73ccf"
      },
      "source": [
        "Now let's actually train a network on the N-MNIST classification task. We start by defining our caching wrappers and dataloaders. While doing that, we're also going to apply some augmentations to the training data. The samples we receive from the cached dataset are frames, so we can make use of PyTorch Vision to apply whatever random transform we would like."
      ]
    },
    {
      "cell_type": "code",
      "execution_count": 10,
      "id": "ace6cd0b-7b56-4422-b3bd-23bac65db9bd",
      "metadata": {
        "id": "ace6cd0b-7b56-4422-b3bd-23bac65db9bd"
      },
      "outputs": [],
      "source": [
        "import torch\n",
        "import torchvision\n",
        "\n",
        "transform = tonic.transforms.Compose([torch.from_numpy,\n",
        "                                      torchvision.transforms.RandomRotation([-10,10])])\n",
        "\n",
        "cached_trainset = DiskCachedDataset(trainset, transform=transform, cache_path='./cache/nmnist/train')\n",
        "\n",
        "# no augmentations for the testset\n",
        "cached_testset = DiskCachedDataset(testset, cache_path='./cache/nmnist/test')\n",
        "\n",
        "batch_size = 128\n",
        "trainloader = DataLoader(cached_trainset, batch_size=batch_size, collate_fn=tonic.collation.PadTensors(batch_first=False), shuffle=True)\n",
        "testloader = DataLoader(cached_testset, batch_size=batch_size, collate_fn=tonic.collation.PadTensors(batch_first=False))"
      ]
    },
    {
      "cell_type": "markdown",
      "id": "528fe384-a365-4b53-bbfc-ed4dd261d222",
      "metadata": {
        "id": "528fe384-a365-4b53-bbfc-ed4dd261d222"
      },
      "source": [
        "A mini-batch now has the dimensions (time steps, batch size, channels, height, width). The number of time steps will be set to that of the longest recording in the mini-batch, and all other samples will be padded with zeros to match it."
      ]
    },
    {
      "cell_type": "code",
      "execution_count": 11,
      "id": "c9e37337-ad4a-43d5-b429-81a18de5148e",
      "metadata": {
        "id": "c9e37337-ad4a-43d5-b429-81a18de5148e"
      },
      "outputs": [
        {
          "name": "stdout",
          "output_type": "stream",
          "text": [
            "torch.Size([312, 128, 2, 34, 34])\n"
          ]
        }
      ],
      "source": [
        "event_tensor, target = next(iter(trainloader))\n",
        "print(event_tensor.shape)"
      ]
    },
    {
      "cell_type": "markdown",
      "id": "61ae5d4b-2bb3-4191-9f96-04b3c6ba4c41",
      "metadata": {
        "id": "61ae5d4b-2bb3-4191-9f96-04b3c6ba4c41"
      },
      "source": [
        "## 2.1 Defining our network\n",
        "We will use snnTorch + PyTorch to construct a CSNN, just as in the previous tutorial. The convolutional network architecture to be used is: 12C5-MP2-32C5-MP2-800FC10\n",
        "\n",
        "- 12C5 is a 5$\\times$5 convolutional kernel with 12 filters\n",
        "- MP2 is a 2$\\times$2 max-pooling function\n",
        "- 800FC10 is a fully-connected layer that maps 800 neurons to 10 outputs"
      ]
    },
    {
      "cell_type": "code",
      "execution_count": 12,
      "id": "HpKDIkRKUIAB",
      "metadata": {
        "id": "HpKDIkRKUIAB"
      },
      "outputs": [],
      "source": [
        "import snntorch as snn\n",
        "from snntorch import surrogate\n",
        "from snntorch import functional as SF\n",
        "from snntorch import spikeplot as splt\n",
        "from snntorch import utils\n",
        "import torch.nn as nn"
      ]
    },
    {
      "cell_type": "code",
      "execution_count": 13,
      "id": "107cb645-0227-4290-9e1b-25d6ae7eac87",
      "metadata": {
        "id": "107cb645-0227-4290-9e1b-25d6ae7eac87"
      },
      "outputs": [],
      "source": [
        "device = torch.device(\"cuda\") if torch.cuda.is_available() else torch.device(\"cpu\")\n",
        "\n",
        "# neuron and simulation parameters\n",
        "spike_grad = surrogate.atan()\n",
        "beta = 0.5\n",
        "\n",
        "#  Initialize Network\n",
        "net = nn.Sequential(nn.Conv2d(2, 12, 5),\n",
        "                    snn.Leaky(beta=beta, spike_grad=spike_grad, init_hidden=True),\n",
        "                    nn.MaxPool2d(2),\n",
        "                    nn.Conv2d(12, 32, 5),\n",
        "                    snn.Leaky(beta=beta, spike_grad=spike_grad, init_hidden=True),\n",
        "                    nn.MaxPool2d(2),\n",
        "                    nn.Flatten(),\n",
        "                    nn.Linear(32*5*5, 10),\n",
        "                    snn.Leaky(beta=beta, spike_grad=spike_grad, init_hidden=True, output=True)\n",
        "                    ).to(device)"
      ]
    },
    {
      "cell_type": "code",
      "execution_count": 14,
      "id": "zPFvlqOGi_uW",
      "metadata": {
        "id": "zPFvlqOGi_uW"
      },
      "outputs": [],
      "source": [
        "# this time, we won't return membrane as we don't need it \n",
        "\n",
        "def forward_pass(net, data):  \n",
        "  spk_rec = []\n",
        "  utils.reset(net)  # resets hidden states for all LIF neurons in net\n",
        "\n",
        "  for step in range(data.size(0)):  # data.size(0) = number of time steps\n",
        "      spk_out, mem_out = net(data[step])\n",
        "      spk_rec.append(spk_out)\n",
        "  \n",
        "  return torch.stack(spk_rec)"
      ]
    },
    {
      "cell_type": "markdown",
      "id": "23569dfc-e4a7-490f-8a68-c9ade5e03028",
      "metadata": {
        "id": "23569dfc-e4a7-490f-8a68-c9ade5e03028"
      },
      "source": [
        "## 2.2 Training\n",
        "\n",
        "In the previous tutorial, Cross Entropy Loss was applied to the total spike count to maximize the number of spikes from the correct class.\n",
        "\n",
        "Another option from the `snn.functional` module is to specify the target number of spikes from correct and incorrect classes. The approach below uses the *Mean Square Error Spike Count Loss*, which aims to elicit spikes from the correct class 80\\% of the time, and 20\\% of the time from incorrect classes. Encouraging incorrect neurons to fire could be motivated to avoid dead neurons."
      ]
    },
    {
      "cell_type": "code",
      "execution_count": 15,
      "id": "VocYbtD7Vwp7",
      "metadata": {
        "id": "VocYbtD7Vwp7"
      },
      "outputs": [],
      "source": [
        "optimizer = torch.optim.Adam(net.parameters(), lr=2e-2, betas=(0.9, 0.999))\n",
        "loss_fn = SF.mse_count_loss(correct_rate=0.8, incorrect_rate=0.2)"
      ]
    },
    {
      "cell_type": "markdown",
      "id": "7xkKLsqnmzcw",
      "metadata": {
        "id": "7xkKLsqnmzcw"
      },
      "source": [
        "Training neuromorphic data is expensive as it requires sequentially iterating through many time steps (approximately 300 time steps in the N-MNIST dataset). The following simulation will take some time, so we will just stick to training across 50 iterations (which is roughly 1/10th of a full epoch). Feel free to change `num_iters` if you have more time to kill. As we are printing results at each iteration, the results will be quite noisy and will also take some time before we start to see any sort of improvement.\n",
        "\n",
        "In our own experiments, it took about 20 iterations before we saw any improvement, and after 50 iterations, managed to crack ~60% accuracy. \n",
        "\n",
        "> Warning: the following simulation will take a while. Go make yourself a coffee, or ten. "
      ]
    },
    {
      "cell_type": "code",
      "execution_count": 16,
      "id": "R4GbPSdTUcUR",
      "metadata": {
        "id": "R4GbPSdTUcUR"
      },
      "outputs": [
        {
          "name": "stderr",
          "output_type": "stream",
          "text": [
            "  0%|          | 0/1 [00:00<?, ?it/s]"
          ]
        },
        {
          "name": "stdout",
          "output_type": "stream",
          "text": [
            "Epoch 0, Iteration 0 \n",
            "Train Loss: 31.00\n",
            "Accuracy: 7.03%\n",
            "\n",
            "Epoch 0, Iteration 1 \n",
            "Train Loss: 30.90\n",
            "Accuracy: 9.38%\n",
            "\n",
            "Epoch 0, Iteration 2 \n",
            "Train Loss: 30.96\n",
            "Accuracy: 9.38%\n",
            "\n",
            "Epoch 0, Iteration 3 \n",
            "Train Loss: 30.90\n",
            "Accuracy: 10.94%\n",
            "\n",
            "Epoch 0, Iteration 4 \n",
            "Train Loss: 30.94\n",
            "Accuracy: 10.16%\n",
            "\n",
            "Epoch 0, Iteration 5 \n",
            "Train Loss: 20.76\n",
            "Accuracy: 13.28%\n",
            "\n",
            "Epoch 0, Iteration 6 \n",
            "Train Loss: 12.51\n",
            "Accuracy: 16.41%\n",
            "\n",
            "Epoch 0, Iteration 7 \n",
            "Train Loss: 16.52\n",
            "Accuracy: 15.62%\n",
            "\n",
            "Epoch 0, Iteration 8 \n",
            "Train Loss: 17.60\n",
            "Accuracy: 15.62%\n",
            "\n",
            "Epoch 0, Iteration 9 \n",
            "Train Loss: 15.71\n",
            "Accuracy: 22.66%\n",
            "\n",
            "Epoch 0, Iteration 10 \n",
            "Train Loss: 13.31\n",
            "Accuracy: 19.53%\n",
            "\n",
            "Epoch 0, Iteration 11 \n",
            "Train Loss: 12.40\n",
            "Accuracy: 29.69%\n",
            "\n",
            "Epoch 0, Iteration 12 \n",
            "Train Loss: 15.29\n",
            "Accuracy: 15.62%\n",
            "\n",
            "Epoch 0, Iteration 13 \n",
            "Train Loss: 13.99\n",
            "Accuracy: 16.41%\n",
            "\n",
            "Epoch 0, Iteration 14 \n",
            "Train Loss: 11.48\n",
            "Accuracy: 17.97%\n",
            "\n",
            "Epoch 0, Iteration 15 \n",
            "Train Loss: 12.04\n",
            "Accuracy: 23.44%\n",
            "\n",
            "Epoch 0, Iteration 16 \n",
            "Train Loss: 12.80\n",
            "Accuracy: 28.12%\n",
            "\n",
            "Epoch 0, Iteration 17 \n",
            "Train Loss: 12.17\n",
            "Accuracy: 28.12%\n",
            "\n",
            "Epoch 0, Iteration 18 \n",
            "Train Loss: 12.01\n",
            "Accuracy: 32.03%\n",
            "\n",
            "Epoch 0, Iteration 19 \n",
            "Train Loss: 11.15\n",
            "Accuracy: 42.19%\n",
            "\n",
            "Epoch 0, Iteration 20 \n",
            "Train Loss: 12.10\n",
            "Accuracy: 57.03%\n",
            "\n",
            "Epoch 0, Iteration 21 \n",
            "Train Loss: 11.57\n",
            "Accuracy: 45.31%\n",
            "\n",
            "Epoch 0, Iteration 22 \n",
            "Train Loss: 10.96\n",
            "Accuracy: 46.88%\n",
            "\n",
            "Epoch 0, Iteration 23 \n",
            "Train Loss: 10.33\n",
            "Accuracy: 55.47%\n",
            "\n",
            "Epoch 0, Iteration 24 \n",
            "Train Loss: 10.23\n",
            "Accuracy: 56.25%\n",
            "\n",
            "Epoch 0, Iteration 25 \n",
            "Train Loss: 9.84\n",
            "Accuracy: 59.38%\n",
            "\n",
            "Epoch 0, Iteration 26 \n",
            "Train Loss: 9.33\n",
            "Accuracy: 58.59%\n",
            "\n",
            "Epoch 0, Iteration 27 \n",
            "Train Loss: 9.21\n",
            "Accuracy: 56.25%\n",
            "\n",
            "Epoch 0, Iteration 28 \n",
            "Train Loss: 9.43\n",
            "Accuracy: 56.25%\n",
            "\n",
            "Epoch 0, Iteration 29 \n",
            "Train Loss: 8.68\n",
            "Accuracy: 71.88%\n",
            "\n",
            "Epoch 0, Iteration 30 \n",
            "Train Loss: 8.69\n",
            "Accuracy: 60.94%\n",
            "\n",
            "Epoch 0, Iteration 31 \n",
            "Train Loss: 8.55\n",
            "Accuracy: 60.94%\n",
            "\n",
            "Epoch 0, Iteration 32 \n",
            "Train Loss: 7.91\n",
            "Accuracy: 65.62%\n",
            "\n",
            "Epoch 0, Iteration 33 \n",
            "Train Loss: 8.28\n",
            "Accuracy: 64.06%\n",
            "\n",
            "Epoch 0, Iteration 34 \n",
            "Train Loss: 8.18\n",
            "Accuracy: 64.06%\n",
            "\n",
            "Epoch 0, Iteration 35 \n",
            "Train Loss: 7.68\n",
            "Accuracy: 68.75%\n",
            "\n",
            "Epoch 0, Iteration 36 \n",
            "Train Loss: 7.90\n",
            "Accuracy: 64.84%\n",
            "\n",
            "Epoch 0, Iteration 37 \n",
            "Train Loss: 7.02\n",
            "Accuracy: 71.09%\n",
            "\n",
            "Epoch 0, Iteration 38 \n",
            "Train Loss: 6.71\n",
            "Accuracy: 82.81%\n",
            "\n",
            "Epoch 0, Iteration 39 \n",
            "Train Loss: 7.18\n",
            "Accuracy: 71.09%\n",
            "\n",
            "Epoch 0, Iteration 40 \n",
            "Train Loss: 6.96\n",
            "Accuracy: 68.75%\n",
            "\n",
            "Epoch 0, Iteration 41 \n",
            "Train Loss: 6.55\n",
            "Accuracy: 74.22%\n",
            "\n",
            "Epoch 0, Iteration 42 \n",
            "Train Loss: 6.00\n",
            "Accuracy: 83.59%\n",
            "\n",
            "Epoch 0, Iteration 43 \n",
            "Train Loss: 6.80\n",
            "Accuracy: 65.62%\n",
            "\n",
            "Epoch 0, Iteration 44 \n",
            "Train Loss: 6.52\n",
            "Accuracy: 78.12%\n",
            "\n",
            "Epoch 0, Iteration 45 \n",
            "Train Loss: 5.86\n",
            "Accuracy: 71.88%\n",
            "\n",
            "Epoch 0, Iteration 46 \n",
            "Train Loss: 6.41\n",
            "Accuracy: 70.31%\n",
            "\n",
            "Epoch 0, Iteration 47 \n",
            "Train Loss: 6.02\n",
            "Accuracy: 75.78%\n",
            "\n",
            "Epoch 0, Iteration 48 \n",
            "Train Loss: 5.70\n",
            "Accuracy: 80.47%\n",
            "\n",
            "Epoch 0, Iteration 49 \n",
            "Train Loss: 5.51\n",
            "Accuracy: 79.69%\n",
            "\n"
          ]
        },
        {
          "name": "stderr",
          "output_type": "stream",
          "text": [
            "100%|██████████| 1/1 [07:26<00:00, 446.33s/it]"
          ]
        },
        {
          "name": "stdout",
          "output_type": "stream",
          "text": [
            "Epoch 0, Iteration 50 \n",
            "Train Loss: 5.79\n",
            "Accuracy: 77.34%\n",
            "\n"
          ]
        },
        {
          "name": "stderr",
          "output_type": "stream",
          "text": [
            "\n"
          ]
        }
      ],
      "source": [
        "num_epochs = 1\n",
        "num_iters = 50\n",
        "\n",
        "loss_hist = []\n",
        "acc_hist = []\n",
        "\n",
        "from tqdm import trange\n",
        "# training loop\n",
        "for epoch in trange(num_epochs):\n",
        "    for i, (data, targets) in enumerate(iter(trainloader)):\n",
        "        data = data.to(device)\n",
        "        targets = targets.to(device)\n",
        "\n",
        "        net.train()\n",
        "        spk_rec = forward_pass(net, data)\n",
        "        loss_val = loss_fn(spk_rec, targets)\n",
        "\n",
        "        # Gradient calculation + weight update\n",
        "        optimizer.zero_grad()\n",
        "        loss_val.backward()\n",
        "        optimizer.step()\n",
        "\n",
        "        # Store loss history for future plotting\n",
        "        loss_hist.append(loss_val.item())\n",
        " \n",
        "        print(f\"Epoch {epoch}, Iteration {i} \\nTrain Loss: {loss_val.item():.2f}\")\n",
        "\n",
        "        acc = SF.accuracy_rate(spk_rec, targets) \n",
        "        acc_hist.append(acc)\n",
        "        print(f\"Accuracy: {acc * 100:.2f}%\\n\")\n",
        "\n",
        "        # This will end training after 50 iterations by default\n",
        "        if i == num_iters:\n",
        "          break"
      ]
    },
    {
      "cell_type": "markdown",
      "id": "YVjUzNcX0wld",
      "metadata": {
        "id": "YVjUzNcX0wld"
      },
      "source": [
        "# 3. Results\n",
        "## 3.1 Plot Test Accuracy"
      ]
    },
    {
      "cell_type": "code",
      "execution_count": 17,
      "id": "yp2aTX2_1zFG",
      "metadata": {
        "id": "yp2aTX2_1zFG"
      },
      "outputs": [
        {
          "data": {
            "image/png": "[encoded data removed]",
            "text/plain": [
              "<Figure size 640x480 with 1 Axes>"
            ]
          },
          "metadata": {},
          "output_type": "display_data"
        }
      ],
      "source": [
        "import matplotlib.pyplot as plt\n",
        "\n",
        "# Plot Loss\n",
        "fig = plt.figure(facecolor=\"w\")\n",
        "plt.plot(acc_hist)\n",
        "plt.title(\"Train Set Accuracy\")\n",
        "plt.xlabel(\"Iteration\")\n",
        "plt.ylabel(\"Accuracy\")\n",
        "plt.show()"
      ]
    },
    {
      "cell_type": "markdown",
      "id": "1gb1wCQb2bMd",
      "metadata": {
        "id": "1gb1wCQb2bMd"
      },
      "source": [
        "## 3.2 Spike Counter\n",
        "\n",
        "Run a forward pass on a batch of data to obtain spike recordings."
      ]
    },
    {
      "cell_type": "code",
      "execution_count": 18,
      "id": "qLAfvj9D2AYd",
      "metadata": {
        "id": "qLAfvj9D2AYd"
      },
      "outputs": [],
      "source": [
        "spk_rec = forward_pass(net, data)"
      ]
    },
    {
      "cell_type": "markdown",
      "id": "VQnj40YC2hUV",
      "metadata": {
        "id": "VQnj40YC2hUV"
      },
      "source": [
        "Changing `idx` allows you to index into various samples from the simulated minibatch. Use `splt.spike_count` to explore the spiking behaviour of a few different samples. Generating the following animation will take some time.\n",
        "\n",
        "> Note: if you are running the notebook locally on your desktop, please uncomment the line below and modify the path to your ffmpeg.exe\n",
        "\n"
      ]
    },
    {
      "cell_type": "code",
      "execution_count": 44,
      "id": "oTKhuyk22M57",
      "metadata": {
        "id": "oTKhuyk22M57"
      },
      "outputs": [],
      "source": [
        "# from IPython.display import HTML\n",
        "\n",
        "# idx = 0\n",
        "\n",
        "# fig, ax = plt.subplots(facecolor='w')\n",
        "# labels=['0', '1', '2', '3', '4', '5', '6', '7', '8','9']\n",
        "# print(f\"The target label is: {targets[idx]}\")\n",
        "\n",
        "# # s\n",
        "# plt.rcParams['animation.ffmpeg_path'] = 'ffmpeg'\n",
        "\n",
        "# #  Plot spike count histogram\n",
        "# anim = splt.spike_count(spk_rec[:, idx].detach().cpu(), fig, ax, labels=labels, \n",
        "#                         animate=True, interpolate=1)\n",
        "\n",
        "# HTML(anim.to_html5_video())\n",
        "# # anim.save(\"spike_bar.mp4\")"
      ]
    },
    {
      "cell_type": "markdown",
      "id": "h-K_DUnsMKnv",
      "metadata": {
        "id": "h-K_DUnsMKnv"
      },
      "source": [
        "# Additional Resources\n",
        "* [Check out the snnTorch GitHub project here.](https://github.com/jeshraghian/snntorch)\n",
        "* [The Tonic GitHub project can be found here.](https://github.com/neuromorphs/tonic)\n",
        "* The N-MNIST Dataset was originally published in the following paper: [Orchard, G.; Cohen, G.; Jayawant, A.; and Thakor, N.  “Converting Static Image Datasets to Spiking Neuromorphic Datasets Using Saccades\", Frontiers in Neuroscience, vol.9, no.437, Oct. 2015.](https://www.frontiersin.org/articles/10.3389/fnins.2015.00437/full) \n",
        "* For further information about how N-MNIST was created, please refer to [Garrick Orchard's website here.](https://www.garrickorchard.com/datasets/n-mnist)"
      ]
    }
  ],
  "metadata": {
    "accelerator": "GPU",
    "colab": {
      "include_colab_link": true,
      "name": "Copy of tutorial_5_neuromorphic_datasets.ipynb",
      "provenance": []
    },
    "gpuClass": "standard",
    "kernelspec": {
      "display_name": "d",
      "language": "python",
      "name": "python3"
    },
    "language_info": {
      "codemirror_mode": {
        "name": "ipython",
        "version": 3
      },
      "file_extension": ".py",
      "mimetype": "text/x-python",
      "name": "python",
      "nbconvert_exporter": "python",
      "pygments_lexer": "ipython3",
      "version": "3.7.12"
    },
    "vscode": {
      "interpreter": {
        "hash": "e710dce77f62bef54a2664f133b2c2b99dc2d4720139c512b04a4c2db99b434f"
      }
    }
  },
  "nbformat": 4,
  "nbformat_minor": 5
}
